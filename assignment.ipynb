{
 "cells": [
  {
   "cell_type": "markdown",
   "id": "c75795ab",
   "metadata": {},
   "source": [
    "# Lesson 0: Simple Functions\n",
    "\n",
    "Welcome! In this assignment, you’ll write two basic Python functions:\n",
    "\n",
    "- `return0()` — returns the integer 0\n",
    "- `returnNTimesA(n, a)` — returns the product of `n` and `a`\n",
    "\n",
    "Fill in the cells below to complete the assignment."
   ]
  },
  {
   "cell_type": "code",
   "execution_count": null,
   "id": "dc2c24fd",
   "metadata": {},
   "outputs": [],
   "source": [
    "# TODO: Implement return0 and returnNTimesA\n",
    "def return0() -> int:\n",
    "    # Your code here\n",
    "    return 0  # placeholder\n",
    "\n",
    "def returnNTimesA(n: int, a: int) -> int:\n",
    "    # Your code here\n",
    "    return a  # placeholder"
   ]
  },
  {
   "cell_type": "code",
   "execution_count": null,
   "id": "a552c094",
   "metadata": {},
   "outputs": [],
   "source": [
    "# Tests (students can run this to check their work)\n",
    "assert return0() == 0, \"return0() should return 0\"\n",
    "\n",
    "assert returnNTimesA(1, 5) == 5\n",
    "assert returnNTimesA(-1, 5) == -5\n",
    "assert returnNTimesA(4, 4) == 16\n",
    "assert returnNTimesA(3, 2) == 6\n",
    "\n",
    "print(\"All tests passed! 🎉\")"
   ]
  },
  {
   "cell_type": "code",
   "execution_count": null,
   "id": "2effe583",
   "metadata": {},
   "outputs": [],
   "source": [
    "# Instructor-only advanced edge tests (optional)\n",
    "assert returnNTimesA(0, 999) == 0\n",
    "assert returnNTimesA(1000, 0) == 0\n",
    "assert returnNTimesA(-3, -3) == 9\n",
    "assert returnNTimesA(2**10, 2**5) == 2**15\n"
   ]
  }
 ],
 "metadata": {},
 "nbformat": 4,
 "nbformat_minor": 5
}